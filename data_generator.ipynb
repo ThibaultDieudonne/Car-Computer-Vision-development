{
 "cells": [
  {
   "cell_type": "markdown",
   "id": "527d7230",
   "metadata": {},
   "source": [
    "# Augmentation des données"
   ]
  },
  {
   "cell_type": "code",
   "execution_count": null,
   "id": "9d71684a",
   "metadata": {},
   "outputs": [],
   "source": [
    "import warnings\n",
    "warnings.simplefilter(action='ignore')\n",
    "import numpy as np\n",
    "import imgaug as ia\n",
    "import imgaug.augmenters as iaa\n",
    "from imgaug.augmentables.segmaps import SegmentationMapsOnImage\n",
    "import imageio\n",
    "import os"
   ]
  },
  {
   "cell_type": "code",
   "execution_count": null,
   "id": "be7ae516",
   "metadata": {},
   "outputs": [],
   "source": [
    "ia.seed(1)\n",
    "\n",
    "def augment(image, image2, n_augment=4):\n",
    "\n",
    "    sometimes = lambda aug: iaa.Sometimes(0.2, aug)\n",
    "\n",
    "    seq = iaa.Sequential(\n",
    "        [\n",
    "            iaa.Fliplr(0.5), # horizontal flip\n",
    "\n",
    "            iaa.SomeOf((1, 3),\n",
    "                [\n",
    "                    iaa.PerspectiveTransform(scale=(0.003, 0.008)), # add perspective\n",
    "                    \n",
    "                    iaa.Affine( # zoom\n",
    "                        scale=(1.0, 1.4),\n",
    "                    ),\n",
    "                    \n",
    "                    iaa.Sharpen(alpha=(0, 1.0), lightness=(0.75, 1.5)), # change alpha / lightness\n",
    "                    \n",
    "                    iaa.OneOf([ # add blur / noise\n",
    "                        iaa.GaussianBlur((0.0, 1.8)),\n",
    "                        iaa.AdditiveGaussianNoise(\n",
    "                            loc=0, scale=(0.0, 0.02*255)),\n",
    "                    ]),\n",
    "                    \n",
    "                    iaa.OneOf([ # change brightess / contrast / saturation\n",
    "                        iaa.AddToBrightness((-25, 25)),\n",
    "                        iaa.AllChannelsCLAHE(clip_limit=(1)),\n",
    "                        iaa.GammaContrast((0.75, 1.2)),\n",
    "                        iaa.MultiplySaturation((0.65, 1.3)),\n",
    "                    ]),\n",
    "                    \n",
    "                ],\n",
    "                random_order=True\n",
    "            ),\n",
    "            \n",
    "            sometimes(iaa.CoarseDropout((0.03, 0.06), size_percent=(0.07, 0.1))),\n",
    "        ],\n",
    "        random_order=False\n",
    "    )\n",
    "\n",
    "    segmap = SegmentationMapsOnImage(image2, shape=image.shape)\n",
    "    images_aug = []\n",
    "    segmaps_aug = []\n",
    "    for _ in range(n_augment):\n",
    "        images_aug_i, segmaps_aug_i = seq(image=image, segmentation_maps=segmap)\n",
    "        images_aug.append(images_aug_i)\n",
    "        segmaps_aug.append(segmaps_aug_i.get_arr())\n",
    "    \n",
    "    return images_aug, segmaps_aug"
   ]
  },
  {
   "cell_type": "code",
   "execution_count": null,
   "id": "11586e71",
   "metadata": {},
   "outputs": [],
   "source": [
    "original_imgs_path = \"./data/leftImg8bit\"\n",
    "\n",
    "cities = {\"train\":[dirs for root, dirs, files in os.walk(\"/\".join([original_imgs_path, \"train\"]))][0]}\n",
    "\n",
    "paths = []\n",
    "tgt_paths = []\n",
    "out_paths = []\n",
    "\n",
    "for split in [\"train\"]:\n",
    "    for city in cities[split]:\n",
    "        tmp_path = \"/\".join([original_imgs_path, split, city])\n",
    "        lbl_tmp_path = tmp_path.replace(\"leftImg8bit\", \"gtFine\")\n",
    "        for _, _, files in os.walk(tmp_path):\n",
    "            for name in files:\n",
    "                if name.endswith((\"_leftImg8bit.png\")):\n",
    "                    paths.append(\"/\".join([tmp_path, name]))\n",
    "                    tgt_paths.append(f\"./data/labels/{name}\".replace(\"leftImg8bit\", \"gtFine_labelIds\"))\n",
    "                    out_paths.append(f\"./data/augments/{name}\")"
   ]
  },
  {
   "cell_type": "code",
   "execution_count": null,
   "id": "a303d1fd",
   "metadata": {},
   "outputs": [],
   "source": [
    "for pth in range(len(paths)):\n",
    "    img = imageio.imread(paths[pth])\n",
    "    tgt = imageio.imread(tgt_paths[pth])\n",
    "    img_t, tgt_t = augment(img, tgt)\n",
    "    for n in range(len(img_t)):\n",
    "        aug_img = img_t[n]\n",
    "        aug_tgt = tgt_t[n]\n",
    "        new_path = f\"{out_paths[pth][:-4]}_augment_{n}.png\"\n",
    "        new_tgt_path = f\"{tgt_paths[pth][:-4]}_augment_{n}.png\"\n",
    "        imageio.imwrite(new_path, aug_img)\n",
    "        imageio.imwrite(new_tgt_path, aug_tgt)"
   ]
  },
  {
   "cell_type": "code",
   "execution_count": null,
   "id": "127c512c",
   "metadata": {},
   "outputs": [],
   "source": []
  }
 ],
 "metadata": {
  "kernelspec": {
   "display_name": "Python 3 (ipykernel)",
   "language": "python",
   "name": "python3"
  },
  "language_info": {
   "codemirror_mode": {
    "name": "ipython",
    "version": 3
   },
   "file_extension": ".py",
   "mimetype": "text/x-python",
   "name": "python",
   "nbconvert_exporter": "python",
   "pygments_lexer": "ipython3",
   "version": "3.8.12"
  }
 },
 "nbformat": 4,
 "nbformat_minor": 5
}
